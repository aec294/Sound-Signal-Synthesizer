{
 "cells": [
  {
   "cell_type": "code",
   "execution_count": 66,
   "id": "e86d879b",
   "metadata": {},
   "outputs": [],
   "source": [
    "import numpy as np\n",
    "import json\n",
    "\n",
    "mario = [\"E5-e\", \"E5-e\", \"R-e\", \"E5-e\", \"R-e\", \"C5-e\", \"E5-q\", \n",
    "         \"G5-q\", \"R-q\", \"G4-q\", \"R-q\",\n",
    "         \n",
    "         \"C5-q\", \"R-e\", \"G4-q\", \"R-e\", \"E4-q\",\n",
    "         \"R-e\", \"A4-q\", \"B4-q\", \"Bb4-e\", \"A4-q\",\n",
    "         \"G4-e\", \"E5-q\", \"G5-e\", \"A5-q\", \"F5-e\", \"G5-e\",\n",
    "         \"R-e\", \"E5-q\", \"C5-e\", \"D5-e\", \"B4-q\", \"R-e\",\n",
    "\n",
    "         \"C5-q\", \"R-e\", \"G4-q\", \"R-e\", \"E4-q\",\n",
    "         \"R-e\", \"A4-q\", \"B4-q\", \"Bb4-e\", \"A4-q\",\n",
    "         \"G4-e\", \"E5-q\", \"G5-e\", \"A5-q\", \"F5-e\", \"G5-e\",\n",
    "         \"R-e\", \"E5-q\", \"C5-e\", \"D5-e\", \"B4-q\", \"R-e\",\n",
    "         \n",
    "         \"C3-q\", \"G5-e\", \"F#5-e\", \"F5-e\", \"D#5-e\", \"C4-e\", \"E5-e\",\n",
    "         \"F3-e\", \"G#5-e\", \"A5-e\", \"C5-e\", \"C4-e\", \"A5-e\", \"C5-e\", \"D5-e\",\n",
    "         \"C3-q\", \"G5-e\", \"F#5-e\", \"F5-e\", \"D#5-e\", \"G3-e\", \"E5-e\",\n",
    "         \"R-e\", \"C6-q\", \"C6-e\", \"C6-q\", \"G3-q\",\n",
    "         \n",
    "         \"C3-q\", \"G5-e\", \"F#5-e\", \"F5-e\", \"D#5-e\", \"C4-e\", \"E5-e\",\n",
    "         \"F3-e\", \"G#5-e\", \"A5-e\", \"C5-e\", \"C4-e\", \"A5-e\", \"C5-e\", \"D5-e\",\n",
    "         \"C3-q\", \"Eb5-q\", \"R-e\", \"D5-q\", \"R-e\",\n",
    "         \"C5-q\", \"R-e\", \"G3-e\", \"G3-q\", \"C3-q\",\n",
    "\n",
    "         \"C3-q\", \"G5-e\", \"F#5-e\", \"F5-e\", \"D#5-e\", \"C4-e\", \"E5-e\",\n",
    "         \"F3-e\", \"G#5-e\", \"A5-e\", \"C5-e\", \"C4-e\", \"A5-e\", \"C5-e\", \"D5-e\",\n",
    "         \"C3-q\", \"G5-e\", \"F#5-e\", \"F5-e\", \"D#5-e\", \"G3-e\", \"E5-e\",\n",
    "         \"R-e\", \"C6-q\", \"C6-e\", \"C6-q\", \"G3-q\",\n",
    "         \n",
    "         \"C3-q\", \"G5-e\", \"F#5-e\", \"F5-e\", \"D#5-e\", \"C4-e\", \"E5-e\",\n",
    "         \"F3-e\", \"G#5-e\", \"A5-e\", \"C5-e\", \"C4-e\", \"A5-e\", \"C5-e\", \"D5-e\",\n",
    "         \"C3-q\", \"Eb5-q\", \"R-e\", \"D5-q\", \"R-e\",\n",
    "         \"C5-q\", \"R-e\", \"G3-e\", \"G3-q\", \"C3-q\"]\n",
    "\n",
    "bad_rom = [\"R-h\", \"C5-e\", \"D5-e\", \"E5-e\", \"C5-e\",\n",
    "           \"F5-q\", \"R-e\", \"E5-e\", \"F5-e\", \"E5-e\", \"D5-e\", \"D5-q\",\n",
    "           \"R-e\", \"R-e\", \"B4-e\", \"C5-q\", \"D5-q\",\n",
    "           \"E5-q\", \"E5-e\", \"E5-e\", \"E5-e\", \"D5-q\", \"C5-q\",\n",
    "\n",
    "           \"R-q\", \"R-e\", \"C5-e\", \"D5-e\", \"E5-e\", \"C5-e\",\n",
    "           \"F5-q\", \"R-e\", \"E5-e\", \"F5-e\", \"E5-e\", \"D5-e\", \"D5-q\",\n",
    "           \"R-q\", \"B4-e\", \"C5-q\", \"D5-q\",\n",
    "           \"E5-q\", \"E5-e\", \"E5-e\", \"E5-e\", \"D5-q\", \"C5-q\",\n",
    "           \n",
    "           \"R-e\", \"R-e\", \"R-q\", \"R-h\",\n",
    "\n",
    "           \"A4-q\", \"A4-q\", \"E5-e\", \"E5-e\", \"F5-e\", \"E5-e\",\n",
    "           \"R-e\", \"A4-e\", \"A4-q\", \"E5-e\", \"E5-e\", \"F5-e\", \"E5-e\",\n",
    "           \"A4-q\", \"A4-q\", \"E5-e\", \"E5-e\", \"F5-e\", \"E5-e\",\n",
    "           \"R-e\", \"C5-e\", \"C5-e\", \"A4-e\", \"C5-e\", \"A4-e\", \"C5-q\",\n",
    "           \n",
    "           \"A4-q\", \"A4-q\", \"E5-e\", \"E5-e\", \"F5-e\", \"E5-e\",\n",
    "           \"R-e\", \"A4-e\", \"A4-q\", \"E5-e\", \"E5-e\", \"F5-e\", \"E5-e\",\n",
    "           \"A4-q\", \"A4-q\", \"E5-e\", \"E5-e\", \"F5-e\", \"E5-e\",\n",
    "           \"R-e\", \"C5-e\", \"C5-e\", \"A4-e\", \"C5-e\", \"A4-e\", \"C5-q\",]\n",
    "\n",
    "loverBoy = [[\"C4\", \"E4\", \"G4\", \"B4\", \"w\"], [\"C4\", \"E4\", \"G4\", \"C5\", \"w\"], [\"C4\", \"E4\", \"G4\", \"B4\", \"w\"], [\"C4\", \"E4\", \"G4\", \"C5\", \"w\"],\n",
    "            [\"F4\", \"A4\", \"C5\", \"w\"], [\"F4\", \"A4\", \"D5\", \"w\"], [\"F4\", \"A4\", \"E5\", \"w\"], [\"F4\", \"A4\", \"D5\", \"w\"]]"
   ]
  },
  {
   "cell_type": "code",
   "execution_count": 67,
   "id": "1d5c361e",
   "metadata": {},
   "outputs": [
    {
     "name": "stdout",
     "output_type": "stream",
     "text": [
      "training complete\n",
      "{\"E5-e\": {\"\": 9, \"\\\\s\": 1, \"E5-e\": 1, \"R-e\": 1, \"C4-e\": 4, \"G3-e\": 2}, \"\\\\s\": {\"\": 1}, \"R-e\": {\"\": 20, \"E5-e\": 4, \"C5-q\": 4, \"G4-q\": 2, \"E4-q\": 2, \"G5-e\": 2, \"B4-q\": 2, \"Eb5-q\": 2, \"D5-q\": 2}, \"C5-e\": {\"\": 11, \"R-e\": 1, \"E5-q\": 2, \"A5-e\": 8}, \"E5-q\": {\"\": 5, \"C5-e\": 1, \"G4-e\": 2, \"R-e\": 2}, \"G5-q\": {\"\": 1, \"E5-q\": 1}, \"R-q\": {\"\": 2, \"G5-q\": 1, \"G4-q\": 1}, \"G4-q\": {\"\": 3, \"R-q\": 1, \"R-e\": 2}, \"C5-q\": {\"\": 4, \"R-q\": 1, \"R-e\": 3}, \"E4-q\": {\"\": 2, \"R-e\": 2}, \"A4-q\": {\"\": 4, \"R-e\": 2, \"Bb4-e\": 2}, \"B4-q\": {\"\": 4, \"A4-q\": 2, \"D5-e\": 2}, \"Bb4-e\": {\"\": 2, \"B4-q\": 2}, \"G4-e\": {\"\": 2, \"A4-q\": 2}, \"G5-e\": {\"\": 10, \"E5-q\": 2, \"F5-e\": 2, \"C3-q\": 6}, \"A5-q\": {\"\": 2, \"G5-e\": 2}, \"F5-e\": {\"\": 8, \"A5-q\": 2, \"F#5-e\": 6}, \"D5-e\": {\"\": 6, \"C5-e\": 6}, \"C3-q\": {\"\": 10, \"R-e\": 1, \"D5-e\": 4, \"G3-q\": 4, \"C3-q\": 1}, \"F#5-e\": {\"\": 6, \"G5-e\": 6}, \"D#5-e\": {\"\": 6, \"F5-e\": 6}, \"C4-e\": {\"\": 8, \"D#5-e\": 4, \"C5-e\": 4}, \"F3-e\": {\"\": 4, \"E5-e\": 4}, \"G#5-e\": {\"\": 4, \"F3-e\": 4}, \"A5-e\": {\"\": 8, \"G#5-e\": 4, \"C4-e\": 4}, \"G3-e\": {\"\": 4, \"D#5-e\": 2, \"R-e\": 2}, \"C6-q\": {\"\": 4, \"R-e\": 2, \"C6-e\": 2}, \"C6-e\": {\"\": 2, \"C6-q\": 2}, \"G3-q\": {\"\": 4, \"C6-q\": 2, \"G3-e\": 2}, \"Eb5-q\": {\"\": 2, \"C3-q\": 2}, \"D5-q\": {\"\": 2, \"R-e\": 2}, \"\\\\e\": {\"\": 0, \"C3-q\": 1}}\n"
     ]
    }
   ],
   "source": [
    "inputs = [mario]\n",
    "p = {}\n",
    "total = 0\n",
    "for inp in inputs:\n",
    "    if inp[0] != \"\\s\":\n",
    "        inp.insert(0, \"\\s\")\n",
    "    if inp[-1] != \"\\e\":\n",
    "        inp.append(\"\\e\")\n",
    "\n",
    "    for i in range(1,len(inp)):\n",
    "        total += 1\n",
    "        curr = str(inp[i])\n",
    "        prev = str(inp[i-1])\n",
    "#         curr = str(inp[i])[:-2] if inp[i] != '\\\\s' and inp[i] != '\\\\e' else str(inp[i])\n",
    "#         prev = str(inp[i-1])[:-2] if inp[i-1] != '\\\\s' and inp[i-1] != '\\\\e' else str(inp[i-1])\n",
    "\n",
    "        if curr not in p:\n",
    "            p[curr] = {}\n",
    "            p[curr][\"\"] = 0\n",
    "        if prev not in p:\n",
    "            p[prev] = {}\n",
    "            p[prev][\"\"] = 0\n",
    "        if prev not in p[curr]:\n",
    "            p[curr][prev] = 0\n",
    "\n",
    "        p[prev][\"\"] += 1\n",
    "        p[curr][prev] += 1\n",
    "    \n",
    "print(\"training complete\")\n",
    "            \n",
    "print(json.dumps(p))"
   ]
  },
  {
   "cell_type": "code",
   "execution_count": 68,
   "id": "0473ea64",
   "metadata": {},
   "outputs": [],
   "source": [
    "def select(prev):\n",
    "    prs = []\n",
    "    elems = []\n",
    "    for curr in p:\n",
    "        if prev in p[curr]:\n",
    "            prs.append(p[curr][prev]/p[prev][\"\"])\n",
    "            elems.append(curr)\n",
    "    prs = np.array(prs)\n",
    "    i = np.argmax(prs)\n",
    "    return np.random.choice(elems, p=prs)# elems[i]"
   ]
  },
  {
   "cell_type": "code",
   "execution_count": 69,
   "id": "34b8865e",
   "metadata": {},
   "outputs": [
    {
     "name": "stdout",
     "output_type": "stream",
     "text": [
      "['E5-e', 'R-e', 'A4-q', 'B4-q', 'Bb4-e', 'A4-q', 'G4-e', 'E5-q', 'C5-e', 'C4-e', 'E5-e', 'F3-e', 'G#5-e', 'A5-e', 'C5-e', 'D5-e', 'C3-q', 'G5-e', 'A5-q', 'F5-e', 'D#5-e', 'C4-e', 'A5-e', 'C5-e', 'E5-q', 'G5-e', 'F#5-e', 'F5-e', 'G5-e', 'A5-q', 'F5-e', 'D#5-e', 'G3-e', 'G3-q', 'C3-q', 'C3-q', 'G5-e', 'R-e', 'E4-q', 'R-e', 'A4-q', 'G4-e', 'E5-q', 'G5-q', 'R-q', 'C5-q', 'R-e', 'C6-q', 'G3-q', 'C3-q', 'G5-e', 'F#5-e', 'F5-e', 'G5-e', 'F#5-e', 'F5-e', 'G5-e', 'A5-q', 'F5-e', 'D#5-e', 'C4-e', 'A5-e', 'C5-e', 'D5-e', 'C3-q', 'G5-e', 'F#5-e', 'F5-e', 'D#5-e', 'C4-e', 'A5-e', 'C5-e', 'D5-e', 'C3-q', 'G5-e', 'F#5-e', 'F5-e', 'D#5-e', 'G3-e', 'E5-e', 'R-e', 'C6-q', 'G3-q', 'C3-q', 'G5-e', 'A5-q', 'F5-e', 'D#5-e', 'C4-e', 'E5-e', 'F3-e', 'G#5-e', 'A5-e', 'C5-e', 'D5-e', 'C3-q', '\\\\e']\n"
     ]
    }
   ],
   "source": [
    "seq = []\n",
    "\n",
    "token = '\\s'\n",
    "while token != '\\e':\n",
    "    token = select(token)\n",
    "    if token[0] == '[':\n",
    "        seq.append(token[2:-2].split(\"', '\"))\n",
    "    else:\n",
    "        seq.append(token)\n",
    "print(seq)"
   ]
  },
  {
   "cell_type": "code",
   "execution_count": null,
   "id": "34d69fae",
   "metadata": {},
   "outputs": [],
   "source": []
  },
  {
   "cell_type": "code",
   "execution_count": null,
   "id": "41fe66b5",
   "metadata": {},
   "outputs": [],
   "source": []
  }
 ],
 "metadata": {
  "kernelspec": {
   "display_name": "Python 3 (ipykernel)",
   "language": "python",
   "name": "python3"
  },
  "language_info": {
   "codemirror_mode": {
    "name": "ipython",
    "version": 3
   },
   "file_extension": ".py",
   "mimetype": "text/x-python",
   "name": "python",
   "nbconvert_exporter": "python",
   "pygments_lexer": "ipython3",
   "version": "3.10.5"
  }
 },
 "nbformat": 4,
 "nbformat_minor": 5
}
