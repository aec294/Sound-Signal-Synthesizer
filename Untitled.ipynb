{
 "cells": [
  {
   "cell_type": "code",
   "execution_count": 1,
   "id": "2d1a54e1",
   "metadata": {},
   "outputs": [],
   "source": [
    "import time\n",
    "from tqdm import tqdm\n",
    "import numpy as np\n",
    "import pyaudio"
   ]
  },
  {
   "cell_type": "code",
   "execution_count": 2,
   "id": "99f891f6",
   "metadata": {},
   "outputs": [],
   "source": [
    "freqs = {\n",
    "    \"C\": 16.3516015625,\n",
    "    \"C#\": 17.32390625,\n",
    "    \"Db\": 17.32390625,\n",
    "    \"D\": 18.3540234375,\n",
    "    \"D#\": 19.4454296875,\n",
    "    \"Eb\": 19.4454296875,\n",
    "    \"E\": 20.60171875,\n",
    "    \"F\": 21.8267578125,\n",
    "    \"F#\": 23.1246484375,\n",
    "    \"Gb\": 23.1246484375,\n",
    "    \"G\": 24.4997265625,\n",
    "    \"G#\": 25.9565625,\n",
    "    \"Ab\": 25.9565625,\n",
    "    \"A\": 27.50,\n",
    "    \"A#\": 29.135234375,\n",
    "    \"Bb\": 29.135234375,\n",
    "    \"B\": 30.8676953125\n",
    "}"
   ]
  },
  {
   "cell_type": "code",
   "execution_count": 3,
   "id": "3bfe129a",
   "metadata": {},
   "outputs": [],
   "source": [
    "chords = {\n",
    "    \"Cmaj\": [\"C4\", \"E4\", \"G4\"],\n",
    "    \"Cmaj7\": [\"C4\", \"E4\", \"G4\", \"B4\"],\n",
    "    \"Dmin\": [\"D4\", \"F4\", \"A4\"],\n",
    "    \"Dmin7\": [\"D4\", \"F4\", \"A4\", \"C5\"],\n",
    "    \"Emin\": [\"E4\", \"G4\", \"B4\"],\n",
    "    \"Emin7\": [\"E4\", \"G4\", \"B4\", \"D5\"],\n",
    "    \"Fmaj\": [\"F4\", \"A4\", \"C5\"],\n",
    "    \"Fmaj7\": [\"F4\", \"A4\", \"C5\", \"E5\"],\n",
    "    \"Gmaj\": [\"G4\", \"B4\", \"D5\"],\n",
    "    \"Gmaj7\": [\"G4\", \"B4\", \"D5\", \"F5\"],\n",
    "    \"Amin\": [\"A4\", \"C5\", \"E5\"],\n",
    "    \"Amin7\": [\"A4\", \"C5\", \"E5\", \"G5\"],\n",
    "    \"Bdim\": [\"B4\", \"D5\", \"F5\"],\n",
    "    \"Bmin7b5\": [\"B4\", \"D5\", \"F5\", \"A5\"]\n",
    "}"
   ]
  },
  {
   "cell_type": "code",
   "execution_count": 4,
   "id": "ed7a0efe",
   "metadata": {},
   "outputs": [],
   "source": [
    "volume = 1.0  # range [0.0, 1.0]\n",
    "sample_rate = 44100  # sampling rate, Hz, must be integer\n",
    "duration = 1.0  # in seconds, may be float\n",
    "seq = [[\"C4\", \"E4\", \"G4\", \"B4\"], [\"C4\", \"E4\", \"G4\", \"C5\"], [\"C4\", \"E4\", \"G4\", \"B4\"], [\"C4\", \"E4\", \"G4\", \"C5\"],\n",
    "       [\"F4\", \"A4\", \"C5\"], [\"F4\", \"A4\", \"D5\"], [\"F4\", \"A4\", \"E5\"], [\"F4\", \"A4\", \"D5\"]]"
   ]
  },
  {
   "cell_type": "code",
   "execution_count": 5,
   "id": "74740d40",
   "metadata": {},
   "outputs": [
    {
     "name": "stdout",
     "output_type": "stream",
     "text": [
      "[261.625625, 329.6275, 391.995625, 493.883125]\n",
      "[261.625625, 329.6275, 391.995625, 523.25125]\n",
      "[261.625625, 329.6275, 391.995625, 493.883125]\n",
      "[261.625625, 329.6275, 391.995625, 523.25125]\n",
      "[349.228125, 440.0, 523.25125]\n",
      "[349.228125, 440.0, 587.32875]\n",
      "[349.228125, 440.0, 659.255]\n",
      "[349.228125, 440.0, 587.32875]\n"
     ]
    }
   ],
   "source": [
    "fs = []\n",
    "for i in range(len(seq)):\n",
    "    notes = seq[i] if type(seq[i]) == list else (chords[seq[i]] if seq[i] in chords else [seq[i]])\n",
    "    fs.append([])\n",
    "    for note in notes:\n",
    "        octave = int(note[-1])\n",
    "        base = note[:-1]\n",
    "        fs[i].append(freqs[base]*2**octave)\n",
    "    print(fs[i])"
   ]
  },
  {
   "cell_type": "code",
   "execution_count": 6,
   "id": "3115f368",
   "metadata": {},
   "outputs": [
    {
     "name": "stderr",
     "output_type": "stream",
     "text": [
      "100%|██████████████████████████████████████████████████████████████████████████████████████████████████████████████████████████████████████████████████████████████| 8/8 [00:00<00:00, 26317.20it/s]"
     ]
    },
    {
     "name": "stdout",
     "output_type": "stream",
     "text": [
      "sin(2πθ*261.63)+sin(2πθ*329.63)+sin(2πθ*392.0)+sin(2πθ*493.88)\n",
      "sin(2πθ*261.63)+sin(2πθ*329.63)+sin(2πθ*392.0)+sin(2πθ*523.25)\n",
      "sin(2πθ*261.63)+sin(2πθ*329.63)+sin(2πθ*392.0)+sin(2πθ*493.88)\n",
      "sin(2πθ*261.63)+sin(2πθ*329.63)+sin(2πθ*392.0)+sin(2πθ*523.25)\n",
      "sin(2πθ*349.23)+sin(2πθ*440.0)+sin(2πθ*523.25)\n",
      "sin(2πθ*349.23)+sin(2πθ*440.0)+sin(2πθ*587.33)\n",
      "sin(2πθ*349.23)+sin(2πθ*440.0)+sin(2πθ*659.25)\n",
      "sin(2πθ*349.23)+sin(2πθ*440.0)+sin(2πθ*587.33)\n"
     ]
    },
    {
     "name": "stderr",
     "output_type": "stream",
     "text": [
      "\n"
     ]
    }
   ],
   "source": [
    "form = []\n",
    "for f in tqdm(fs):\n",
    "    formula = \"sin(2πθ*\"+str(round(f[0], 2))+\")\"\n",
    "    for note in f[1:]:\n",
    "        formula += \"+sin(2πθ*\"+str(round(note, 2))+\")\"\n",
    "    form.append(formula)\n",
    "    print(formula)"
   ]
  },
  {
   "cell_type": "code",
   "execution_count": 10,
   "id": "bcf36edc",
   "metadata": {},
   "outputs": [
    {
     "name": "stdout",
     "output_type": "stream",
     "text": [
      "samples for sequence 0 generated\n",
      "samples for sequence 1 generated\n",
      "samples for sequence 2 generated\n",
      "samples for sequence 3 generated\n",
      "samples for sequence 4 generated\n",
      "samples for sequence 5 generated\n",
      "samples for sequence 6 generated\n",
      "samples for sequence 7 generated\n"
     ]
    }
   ],
   "source": [
    "# generate samples, note conversion to float32 array\n",
    "samples = []\n",
    "for i in range(len(fs)):\n",
    "    samples.append([])\n",
    "    samples[i] = (np.sin(2*np.pi*np.arange(sample_rate*duration)*fs[i][0]/sample_rate)).astype(np.float32)\n",
    "    for f in fs[i][1:]:\n",
    "        samples[i] += (np.sin(2*np.pi*np.arange(sample_rate*duration)*f/sample_rate)).astype(np.float32)\n",
    "    samples[i] = (volume*samples[i]).tobytes()\n",
    "    print(\"samples for sequence\", i, \"generated\")\n",
    "    \n",
    "chords = {\n",
    "    \"Cmaj\": [\"C4\", \"E4\", \"G4\"],\n",
    "    \"Cmaj7\": [\"C4\", \"E4\", \"G4\", \"B4\"],\n",
    "    \"Dmin\": [\"D4\", \"F4\", \"A4\"],\n",
    "    \"Dmin7\": [\"D4\", \"F4\", \"A4\", \"C5\"],\n",
    "    \"Emin\": [\"E4\", \"G4\", \"B4\"],\n",
    "    \"Emin7\": [\"E4\", \"G4\", \"B4\", \"D5\"],\n",
    "    \"Fmaj\": [\"F4\", \"A4\", \"C5\"],\n",
    "    \"Fmaj7\": [\"F4\", \"A4\", \"C5\", \"E5\"],\n",
    "    \"Gmaj\": [\"G4\", \"B4\", \"D5\"],\n",
    "    \"Gmaj7\": [\"G4\", \"B4\", \"D5\", \"F5\"],\n",
    "    \"Amin\": [\"A4\", \"C5\", \"E5\"],\n",
    "    \"Amin7\": [\"A4\", \"C5\", \"E5\", \"G5\"],\n",
    "    \"Bdim\": [\"B4\", \"D5\", \"F5\"],\n",
    "    \"Bmin7b5\": [\"B4\", \"D5\", \"F5\", \"A5\"]\n",
    "}"
   ]
  },
  {
   "cell_type": "code",
   "execution_count": 14,
   "id": "8ae72095",
   "metadata": {},
   "outputs": [
    {
     "name": "stdout",
     "output_type": "stream",
     "text": [
      "Played sound for 8.00 seconds\n"
     ]
    }
   ],
   "source": [
    "p = pyaudio.PyAudio()\n",
    "\n",
    "sample_rate = 44100  # sampling rate, Hz, must be integer\n",
    "\n",
    "stream = p.open(format=pyaudio.paFloat32,\n",
    "                channels=1,\n",
    "                rate=sample_rate,\n",
    "                output=True)\n",
    "\n",
    "start_time = time.time()\n",
    "for i in range(len(samples)):\n",
    "    stream.write(samples[i])\n",
    "print(\"Played sound for {:.2f} seconds\".format(time.time() - start_time))\n",
    "\n",
    "stream.stop_stream()\n",
    "stream.close()\n",
    "\n",
    "p.terminate()"
   ]
  },
  {
   "cell_type": "code",
   "execution_count": null,
   "id": "70d5c13e",
   "metadata": {},
   "outputs": [],
   "source": []
  }
 ],
 "metadata": {
  "kernelspec": {
   "display_name": "Python 3 (ipykernel)",
   "language": "python",
   "name": "python3"
  },
  "language_info": {
   "codemirror_mode": {
    "name": "ipython",
    "version": 3
   },
   "file_extension": ".py",
   "mimetype": "text/x-python",
   "name": "python",
   "nbconvert_exporter": "python",
   "pygments_lexer": "ipython3",
   "version": "3.10.5"
  }
 },
 "nbformat": 4,
 "nbformat_minor": 5
}
